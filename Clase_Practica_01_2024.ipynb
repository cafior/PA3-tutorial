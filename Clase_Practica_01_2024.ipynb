{
  "nbformat": 4,
  "nbformat_minor": 0,
  "metadata": {
    "colab": {
      "provenance": [],
      "include_colab_link": true
    },
    "kernelspec": {
      "name": "python3",
      "display_name": "Python 3"
    },
    "language_info": {
      "name": "python"
    }
  },
  "cells": [
    {
      "cell_type": "markdown",
      "metadata": {
        "id": "view-in-github",
        "colab_type": "text"
      },
      "source": [
        "<a href=\"https://colab.research.google.com/github/cafior/PA3-tutorial/blob/master/Clase_Practica_01_2024.ipynb\" target=\"_parent\"><img src=\"https://colab.research.google.com/assets/colab-badge.svg\" alt=\"Open In Colab\"/></a>"
      ]
    },
    {
      "cell_type": "markdown",
      "source": [
        "# Python Para finanzas 2024\n",
        "\n",
        "EJERCICIOS CLASE TEORICA 1"
      ],
      "metadata": {
        "id": "NNUxXCX5bTY9"
      }
    },
    {
      "cell_type": "markdown",
      "source": [
        "1)\n",
        "\n",
        "pedir al usuario su nombre y edad. Imprimir en pantalla un saludo a este usuario, recordandole la edad que tiene.\n",
        "imprimir de forma concatenada  y tambien utlizando fstring!\n",
        "\n",
        "imprimir la edad del hijo del usuario, que asumimos que tiene un tercio de la edad de este."
      ],
      "metadata": {
        "id": "UE0F4f3Obil8"
      }
    },
    {
      "cell_type": "code",
      "source": [],
      "metadata": {
        "id": "V27yk-qjUBgu"
      },
      "execution_count": null,
      "outputs": []
    },
    {
      "cell_type": "code",
      "source": [],
      "metadata": {
        "id": "rNBcncDNUA3u"
      },
      "execution_count": null,
      "outputs": []
    },
    {
      "cell_type": "markdown",
      "source": [
        "2)\n",
        "\n",
        "pedir al usuario su apellido, guardarlo en variable \"last_name\", asegurar que el mismo se encuentre con mayuscula en su letra inicial.\n",
        "\n",
        "como me aseguro cumplir con las mayusculas si tengo un apellido con mas de una palabra (compuesto)?\n",
        "\n"
      ],
      "metadata": {
        "id": "cFPZDFdPcQ8Z"
      }
    },
    {
      "cell_type": "code",
      "source": [],
      "metadata": {
        "id": "d_HZO99vUDMf"
      },
      "execution_count": null,
      "outputs": []
    },
    {
      "cell_type": "code",
      "source": [],
      "metadata": {
        "id": "vMruzBiBUDBm"
      },
      "execution_count": null,
      "outputs": []
    },
    {
      "cell_type": "markdown",
      "source": [
        "3) practiquemos algunas operaciones matematicas para refrescar!!\n",
        "\n",
        "  defina cada variable y responda las siguientes preguntas:  \n",
        "  * a = 3\n",
        "  * b = 5\n",
        "  * c = 4\n",
        "\n",
        "  3.1) el resultado de la suma de a y c\n",
        "\n",
        "  3.2) el resultado de A menos B\n",
        "\n",
        "  3.3) la multiplicacion de A y C\n",
        "\n",
        "  3.4) cual es el cuadrado de B ?\n",
        "\n",
        "  3.5) dividir B en C veces es igual a.. ? y si la division es entera? cual es el resto?\n",
        "\n",
        "  3.6) cual es la raiz cuadrada de C ?\n",
        "\n",
        "  3.7) es A par? y D ?"
      ],
      "metadata": {
        "id": "M0YRNBIOcVvS"
      }
    },
    {
      "cell_type": "code",
      "source": [],
      "metadata": {
        "id": "UvBm9wdzUEiW"
      },
      "execution_count": null,
      "outputs": []
    },
    {
      "cell_type": "code",
      "source": [],
      "metadata": {
        "id": "Wq9a9lPOUEW_"
      },
      "execution_count": null,
      "outputs": []
    },
    {
      "cell_type": "markdown",
      "source": [
        "4)\n",
        "\n",
        "pedir al usuario el precio de cierre de GGAL y guardarla en variable \"ggal_price\". Si tengo la certeza que mañana no subira ni bajara mas de un X% (ingresar por consola tambien),entre que posibles precios se podra encontrar mañana? guardar los rangos minimos y maximos en dos variables."
      ],
      "metadata": {
        "id": "jIOKS6j7cl-m"
      }
    },
    {
      "cell_type": "code",
      "source": [],
      "metadata": {
        "id": "C_qJmuu2UIFf"
      },
      "execution_count": null,
      "outputs": []
    },
    {
      "cell_type": "code",
      "source": [],
      "metadata": {
        "id": "d4PwSK6gUGjP"
      },
      "execution_count": null,
      "outputs": []
    },
    {
      "cell_type": "markdown",
      "source": [
        "##¿Qué son los Slicings en Python?\n",
        "es una técnica para extraer subcadenas de una **cadena de texto** o elementos de una lista o secuencia.\n",
        "\n",
        "\n",
        "Syntaxis:   \n",
        "\n",
        "            string [posicion]\n",
        "\n",
        "            string[start:end(exc)]\n",
        "\n",
        "            string [ start : end (exc) : step(opc)]\n",
        "            \n",
        "\n",
        "Si uso valores negativos, puedo invertir el string.\n",
        "\n",
        "\n"
      ],
      "metadata": {
        "id": "A5_v-cvwt8wy"
      }
    },
    {
      "cell_type": "code",
      "source": [],
      "metadata": {
        "id": "adQhZ5G9UNSp"
      },
      "execution_count": null,
      "outputs": []
    },
    {
      "cell_type": "markdown",
      "source": [
        "5)\n",
        "\n",
        "Cuantas palabras tiene la variable?\n",
        "\n",
        "Cual es el sexto caracter? y el doceavo? cual es la septima letra?\n",
        "\n",
        "Cual es la primer palabra?"
      ],
      "metadata": {
        "id": "uHf5h9bZ103Z"
      }
    },
    {
      "cell_type": "code",
      "source": [
        "programa = \"Python para Finanzas \""
      ],
      "metadata": {
        "id": "jcd0ukVbUPLA"
      },
      "execution_count": null,
      "outputs": []
    },
    {
      "cell_type": "code",
      "source": [],
      "metadata": {
        "id": "idew3fToUPdp"
      },
      "execution_count": null,
      "outputs": []
    },
    {
      "cell_type": "markdown",
      "source": [
        "6) juguemos un rato con los slicing en strings!!\n",
        "* utilizando metodos de strings , capturar en una variable la frase \"es la mas alta de los ultimos años.\" usando como referencia los caracteres de puntos de la abreviatura \"EE.UU.\"\n",
        "* cual es la ultima palabra?"
      ],
      "metadata": {
        "id": "3uIzew57c4H6"
      }
    },
    {
      "cell_type": "code",
      "source": [
        "oracion = \"\"\"    La inflación de EE.UU. es la más alta de los últimos años. ¿No sabés qué hacer para que tus dólares no pierdan valor?\n",
        "Te compartimos tres carteras de ONs y sus rendimientos anuales esperados para que puedas proteger tu capital    \"\"\""
      ],
      "metadata": {
        "id": "h1DwJY9NUU4U"
      },
      "execution_count": null,
      "outputs": []
    },
    {
      "cell_type": "code",
      "source": [],
      "metadata": {
        "id": "ozozZSRsURuk"
      },
      "execution_count": null,
      "outputs": []
    },
    {
      "cell_type": "code",
      "source": [],
      "metadata": {
        "id": "s8Uw5HCRVoQZ"
      },
      "execution_count": null,
      "outputs": []
    },
    {
      "cell_type": "markdown",
      "source": [
        "7) pedir por consola al usuario un email y guardarlo en variable \"email\". Imprimir si cumple con alguna de las terminaciones existentes\n",
        " (supongamos que solo existen las terminaciones __@gmail.com__ y __@yahoo.com__ )\n",
        "\n",
        "\n",
        " imprimir de la forma  -->       \"es X que el mail termina en Z , y es Y que el mail termina en K\""
      ],
      "metadata": {
        "id": "2RSJTFv9eQz8"
      }
    },
    {
      "cell_type": "code",
      "source": [],
      "metadata": {
        "id": "oW28YdZ7UWEz"
      },
      "execution_count": null,
      "outputs": []
    },
    {
      "cell_type": "code",
      "source": [],
      "metadata": {
        "id": "mKmvVBFlUV4y"
      },
      "execution_count": null,
      "outputs": []
    },
    {
      "cell_type": "markdown",
      "source": [
        "8) Limpiar el string de cotizaciones lo maximo posible. La ultima cotizacion tuvo un error de tipeo, es imposible que COME supere los $3. Como puedo modificar su valor a 2.99 sin usar replace?"
      ],
      "metadata": {
        "id": "XnAJYR76eSVk"
      }
    },
    {
      "cell_type": "code",
      "source": [
        "cotizaciones = \"\"\" BMA C $220,00\n",
        "BMA C $219,22\n",
        "BMA V $221,50\n",
        "CoME V $3,00\n",
        "GGAL c $190,95\n",
        "BMA V $220,25\n",
        "GGAL  v $187,20\n",
        "TS V $40,30\n",
        "TS C $45,20\n",
        "TS V $40,20\n",
        "COME C $3,01\"\"\""
      ],
      "metadata": {
        "id": "r6vzqw7AUXsE"
      },
      "execution_count": null,
      "outputs": []
    },
    {
      "cell_type": "code",
      "source": [],
      "metadata": {
        "id": "PZwlSDb3UXZL"
      },
      "execution_count": null,
      "outputs": []
    },
    {
      "cell_type": "markdown",
      "source": [
        "10) verificar si el contenido de las variables dadas son un palindromo  e imprimir todas las respuestas  utilizando UNA sola vez la funcion \"print\" asegurando que entre cada respuesta haya un salto de linea.\n",
        "\n",
        "imprimir en un formato similar al punto 1.\n",
        "\n",
        "a la variable __cuatro__ formatear con metodos para intentar asegurar no tener fallas a la hora de resolver."
      ],
      "metadata": {
        "id": "PThtifvDfYuO"
      }
    },
    {
      "cell_type": "code",
      "source": [
        "uno = \"Python\"\n",
        "dos = \"Amor a Roma\"\n",
        "tres = \"Yo hago yoga hoy\""
      ],
      "metadata": {
        "id": "vbnYhEinfi55"
      },
      "execution_count": null,
      "outputs": []
    },
    {
      "cell_type": "markdown",
      "source": [
        "11) Pida al usuario una frase, e informe cuantas vocales contiene. Al hacerlo, centre la respuesta en 10 caracteres."
      ],
      "metadata": {
        "id": "Y0LUas2imZLq"
      }
    },
    {
      "cell_type": "code",
      "source": [],
      "metadata": {
        "id": "ePseoLJQS_Sh"
      },
      "execution_count": null,
      "outputs": []
    }
  ]
}