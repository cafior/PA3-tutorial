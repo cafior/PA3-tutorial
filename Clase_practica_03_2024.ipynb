{
  "nbformat": 4,
  "nbformat_minor": 0,
  "metadata": {
    "colab": {
      "provenance": [],
      "include_colab_link": true
    },
    "kernelspec": {
      "name": "python3",
      "display_name": "Python 3"
    },
    "language_info": {
      "name": "python"
    }
  },
  "cells": [
    {
      "cell_type": "markdown",
      "metadata": {
        "id": "view-in-github",
        "colab_type": "text"
      },
      "source": [
        "<a href=\"https://colab.research.google.com/github/cafior/PA3-tutorial/blob/master/Clase_practica_03_2024.ipynb\" target=\"_parent\"><img src=\"https://colab.research.google.com/assets/colab-badge.svg\" alt=\"Open In Colab\"/></a>"
      ]
    },
    {
      "cell_type": "markdown",
      "source": [
        "# Clase Practica 03\n",
        "\n",
        " - Ejercitacion de temas vistos en clases teoricas 1, 2 y 3."
      ],
      "metadata": {
        "id": "LStLEEGh9xZn"
      }
    },
    {
      "cell_type": "markdown",
      "source": [
        "### Comenzaremos con un poco de teoria:"
      ],
      "metadata": {
        "id": "cN0PIOiH9w_2"
      }
    },
    {
      "cell_type": "markdown",
      "source": [
        "# Ciclo __For__:\n",
        "\n",
        "El ciclo __for__ se utiliza en programación para recorrer objetos __iterables__ , y ejecutar un bloque de codigo.\n",
        "\n",
        "Entonces.. Que es un Iterable? Un  __iterable__ es un objeto que permite recorrer los elementos que lo componen, uno a uno.\n",
        "\n",
        "Nosotros venimos trabajando con algunos objetos que son iterables:\n",
        "\n",
        "- strings\n",
        "- listas\n",
        "-tuplas\n",
        "-range()\n",
        "-sets()\n",
        "\n",
        "\n"
      ],
      "metadata": {
        "id": "nhjPk7S79w53"
      }
    },
    {
      "cell_type": "code",
      "source": [
        "#estructura del ciclo for\n",
        "\n",
        "#for <elemento> in <iterable>:\n",
        "    #bloque de codigo indentado.\n"
      ],
      "metadata": {
        "id": "Rh4ohSF7c7VO"
      },
      "execution_count": null,
      "outputs": []
    },
    {
      "cell_type": "code",
      "source": [
        "#Pedir al usuario su nombre e imprimirlo letra por letra con un salto de linea entre cada una\n"
      ],
      "metadata": {
        "id": "FUDSBchDEHQV"
      },
      "execution_count": null,
      "outputs": []
    },
    {
      "cell_type": "code",
      "source": [],
      "metadata": {
        "id": "5gsjxmDocJtQ"
      },
      "execution_count": null,
      "outputs": []
    },
    {
      "cell_type": "code",
      "source": [
        "lista_for = [1,2,3,4]\n",
        "#verificar si los elementos de la lista son pares, informandolo mediante un print con True o False según corresponda."
      ],
      "metadata": {
        "id": "5BjW-RoKD2Rh"
      },
      "execution_count": null,
      "outputs": []
    },
    {
      "cell_type": "code",
      "source": [],
      "metadata": {
        "id": "d-bx7w45Hk8X"
      },
      "execution_count": null,
      "outputs": []
    },
    {
      "cell_type": "code",
      "source": [],
      "metadata": {
        "id": "41UsaNVwcL3I"
      },
      "execution_count": null,
      "outputs": []
    },
    {
      "cell_type": "markdown",
      "source": [
        "### 1)\n",
        "generar una lista que contenga todos los numeros del 0 al 10 con la funcion vista en clase. guardarla en la variable \"numeros\"."
      ],
      "metadata": {
        "id": "bKh-7k4fzpn-"
      }
    },
    {
      "cell_type": "code",
      "source": [],
      "metadata": {
        "id": "TLrIkVmlFaJc"
      },
      "execution_count": null,
      "outputs": []
    },
    {
      "cell_type": "code",
      "source": [],
      "metadata": {
        "id": "MJ47QfXjFaQc"
      },
      "execution_count": null,
      "outputs": []
    },
    {
      "cell_type": "markdown",
      "source": [
        "### 2)\n",
        "hacer slicing con la variable \"numeros\" e imprimir:\n",
        "\n",
        "* numeros pares\n",
        "* numeros del 7 al 10\n",
        "* numeros impares de mayor a menor\n",
        "* promedio de los elementos\n",
        "* promedio de la sumatoria sin tener en cuenta el primer elemento"
      ],
      "metadata": {
        "id": "ww3GsCVvFajs"
      }
    },
    {
      "cell_type": "code",
      "source": [],
      "metadata": {
        "id": "7-MJ4rEOcQdY"
      },
      "execution_count": null,
      "outputs": []
    },
    {
      "cell_type": "code",
      "source": [],
      "metadata": {
        "id": "Vtc2t7TAcQJY"
      },
      "execution_count": null,
      "outputs": []
    },
    {
      "cell_type": "markdown",
      "source": [
        "#### *ejecutar las siguientes listas cada vez que comienza los ejercicios de 3 a 5 inclusive:*\n"
      ],
      "metadata": {
        "id": "J6Xwj_djFzB2"
      }
    },
    {
      "cell_type": "code",
      "source": [
        "nyse = [\"KO\", \"TSLA\" , \"TS\" , \"AAPL\" , \"BRK.A\"]\n",
        "byma = [\"EDN\" , \"GGAL\" , \"YPFD\" , \"CTIO\"]"
      ],
      "metadata": {
        "id": "HxGhVX4LF1Wh"
      },
      "execution_count": null,
      "outputs": []
    },
    {
      "cell_type": "code",
      "source": [],
      "metadata": {
        "id": "kF676PR9F4ZI"
      },
      "execution_count": null,
      "outputs": []
    },
    {
      "cell_type": "markdown",
      "source": [
        "### 3)\n",
        "elegir un ticker aleatoriamente de byma y guardarlo en la variable \"ticker_para_nyse\". primero imprimir en pantalla y luego asignarlo a la lista de nyse, e imprimir esta ultima."
      ],
      "metadata": {
        "id": "h7JRUO5RF46B"
      }
    },
    {
      "cell_type": "code",
      "source": [
        "nyse = [\"KO\", \"TSLA\" , \"TS\" , \"AAPL\" , \"BRK.A\"]\n",
        "byma = [\"EDN\" , \"GGAL\" , \"YPFD\" , \"CTIO\"]"
      ],
      "metadata": {
        "id": "S6VvOOIlGMzE"
      },
      "execution_count": null,
      "outputs": []
    },
    {
      "cell_type": "code",
      "source": [],
      "metadata": {
        "id": "DIgFlw0BcS74"
      },
      "execution_count": null,
      "outputs": []
    },
    {
      "cell_type": "code",
      "source": [],
      "metadata": {
        "id": "k2yzGK0ncSyB"
      },
      "execution_count": null,
      "outputs": []
    },
    {
      "cell_type": "markdown",
      "source": [
        "### 4)\n",
        "mezclar aleatoriamente la lista nyse e imprimirla. Luego agregar el anteultimo ticker de esta lista a la lista byma."
      ],
      "metadata": {
        "id": "00JlThhIGNPd"
      }
    },
    {
      "cell_type": "code",
      "source": [
        "nyse = [\"KO\", \"TSLA\" , \"TS\" , \"AAPL\" , \"BRK.A\"]\n",
        "byma = [\"EDN\" , \"GGAL\" , \"YPFD\" , \"CTIO\"]"
      ],
      "metadata": {
        "id": "mhvwIFIrGR4k"
      },
      "execution_count": null,
      "outputs": []
    },
    {
      "cell_type": "code",
      "source": [],
      "metadata": {
        "id": "snHYoYEfcW0x"
      },
      "execution_count": null,
      "outputs": []
    },
    {
      "cell_type": "code",
      "source": [],
      "metadata": {
        "id": "4wApuZSccWXK"
      },
      "execution_count": null,
      "outputs": []
    },
    {
      "cell_type": "markdown",
      "source": [
        "### 5)\n",
        "transformar las dos listas en una sola,en una variable llamada \"lista_larga\". Acomodarla en orden alfabetico INVERSO (Z a A) , imprimir y luego:\n",
        "* elimilar el primer elemento utilizando el nombre del ticker (str) correspondiente.\n",
        "* eliminar el ultimo elemento utilizando el indice del mismo e imprimir cual fue el mismo.\n",
        "\n",
        "imprimir nuevamente la lista para verificar los cambios."
      ],
      "metadata": {
        "id": "-nCqOhuBGgpu"
      }
    },
    {
      "cell_type": "code",
      "source": [
        "nyse = [\"KO\", \"TSLA\" , \"TS\" , \"AAPL\" , \"BRK.A\"]\n",
        "byma = [\"EDN\" , \"GGAL\" , \"YPFD\" , \"CTIO\"]"
      ],
      "metadata": {
        "id": "eBHNLGYRGoJx"
      },
      "execution_count": null,
      "outputs": []
    },
    {
      "cell_type": "code",
      "source": [],
      "metadata": {
        "id": "Dsk8ydFZcbN5"
      },
      "execution_count": null,
      "outputs": []
    },
    {
      "cell_type": "code",
      "source": [],
      "metadata": {
        "id": "yfbXtnWgca_w"
      },
      "execution_count": null,
      "outputs": []
    },
    {
      "cell_type": "markdown",
      "source": [
        "### 6)\n",
        "Solicitar al usuario un valor entero para generar una tabla de multiplicación (1 al 10), presentando los resultados en pantalla y almacenándolos en una lista. ¿Como podría dejar almacenado dichos resultados en una tupla , en lugar de la lista?"
      ],
      "metadata": {
        "id": "mKRXPnzrP_56"
      }
    },
    {
      "cell_type": "code",
      "source": [],
      "metadata": {
        "id": "VzWDB7UMQJSN"
      },
      "execution_count": null,
      "outputs": []
    },
    {
      "cell_type": "code",
      "source": [],
      "metadata": {
        "id": "e5h3jEDMQJac"
      },
      "execution_count": null,
      "outputs": []
    },
    {
      "cell_type": "markdown",
      "source": [
        "### 7)\n",
        "Utilizando otro número para las tablas, genera una nueva tabla de multiplicar y aplique la misma lógica utilizada en el punto 6. Luego, compare la nueva lista resultante con la del punto 6 y determine qué valores están presentes en ambas listas."
      ],
      "metadata": {
        "id": "dUoh4UoMQJvk"
      }
    },
    {
      "cell_type": "code",
      "source": [],
      "metadata": {
        "id": "SIsUI9Hxcisq"
      },
      "execution_count": null,
      "outputs": []
    },
    {
      "cell_type": "code",
      "source": [],
      "metadata": {
        "id": "VT6xCnc3ciab"
      },
      "execution_count": null,
      "outputs": []
    },
    {
      "cell_type": "markdown",
      "source": [
        "###  8)\n",
        "solicitar al usuario la cantidad de elementos tendra nuestra lista.\n",
        "\n",
        "Utilizando ese dato, solicitar al usuario tantos numeros como longitud de la lista, dando la posibilidad de que sean numeros decimales.\n",
        "\n",
        "Guardar dichos numeros en una lista, y luego A MANO  calcular la media y la desviacion estandar.\n",
        "\n",
        "Verificar con alguna libreria, los resultados obtenidos."
      ],
      "metadata": {
        "id": "D3uzF6MlQ_lF"
      }
    },
    {
      "cell_type": "code",
      "source": [],
      "metadata": {
        "id": "yfZLn1b7ckqL"
      },
      "execution_count": null,
      "outputs": []
    },
    {
      "cell_type": "code",
      "source": [],
      "metadata": {
        "id": "MobWrMbpckdS"
      },
      "execution_count": null,
      "outputs": []
    },
    {
      "cell_type": "markdown",
      "source": [
        "###  9)\n",
        "\n",
        "Pedir al usuario 5 tickers y guardarlos en una lista. Verificar que ninguno tenga espacios al principio ni final, y que se encuentren en mayusculas.\n",
        "\n",
        "Usar la lista \"historial_de_operaciones\" para ver si he operado algun ticker de los pasados por el usuario.\n",
        "\n",
        "En el caso de hallar coincidencias , imprimir tales tickers en un texto minuscula como \"el ticker X ha sido operado por mi\"\n",
        "\n",
        "Para aquellos tickers que no se hallen coincidencias, eliminarlos de \"historial de operaciones\" y guardarlos en una tupla."
      ],
      "metadata": {
        "id": "uLW_FwF9Ra4o"
      }
    },
    {
      "cell_type": "code",
      "source": [
        "historial_de_operaciones = [\"BMA\" , \"KO\" , \"TSLA\" , \"YPFD\"]"
      ],
      "metadata": {
        "id": "cMTpdDQCRbvJ"
      },
      "execution_count": null,
      "outputs": []
    },
    {
      "cell_type": "code",
      "source": [],
      "metadata": {
        "id": "6W8keY3qcn4j"
      },
      "execution_count": null,
      "outputs": []
    },
    {
      "cell_type": "code",
      "source": [],
      "metadata": {
        "id": "A1Rgy3Trcnur"
      },
      "execution_count": null,
      "outputs": []
    },
    {
      "cell_type": "markdown",
      "source": [
        "### 10)\n",
        "\n",
        "Con el String utilizado en la clase pasada, volverlo a limpiar para dejarlo normalizado, y luego generar una lista con las operaciones individuales (ticker operacion precio).\n",
        "\n",
        "\n",
        "Obtener el precio promedio de las operaciones."
      ],
      "metadata": {
        "id": "ewZvFU2jRz7s"
      }
    },
    {
      "cell_type": "code",
      "source": [
        "cotizaciones = \"\"\"BMA C 220,00\n",
        "BMA C $219,22\n",
        "BMA V $221,50\n",
        "COME V $3,00\n",
        "GGAL c $190,95\n",
        "BMA V $220,25\n",
        "GGAL v 187,20\n",
        "TS V $40,30\n",
        "TS C $45,20\n",
        "TS V 40,20\n",
        "COME C $3,01\"\"\""
      ],
      "metadata": {
        "id": "MyIohZm5R0ll"
      },
      "execution_count": null,
      "outputs": []
    },
    {
      "cell_type": "code",
      "source": [],
      "metadata": {
        "id": "n4Uc262ISJSg"
      },
      "execution_count": null,
      "outputs": []
    },
    {
      "cell_type": "code",
      "source": [],
      "metadata": {
        "id": "XHmu_6j_cptE"
      },
      "execution_count": null,
      "outputs": []
    },
    {
      "cell_type": "markdown",
      "source": [
        "### 11)\n",
        "\n",
        "Pedir al usuario sus 3 acciones favoritas, y sus precios actuales, guardando este par de datos dentro de una lista, y luego todas estas listas de pares, deben quedar guardadas en una unica tupla llamada \"acciones_favs\"\n",
        "\n",
        "Con los datos de la tupla, generar dos listas. Una con los tickers y otra con los precios."
      ],
      "metadata": {
        "id": "-DcLh85FSK7x"
      }
    },
    {
      "cell_type": "code",
      "source": [],
      "metadata": {
        "id": "INXgTUdaSXrq"
      },
      "execution_count": null,
      "outputs": []
    },
    {
      "cell_type": "code",
      "source": [],
      "metadata": {
        "id": "RmyIJXHYSYB7"
      },
      "execution_count": null,
      "outputs": []
    },
    {
      "cell_type": "markdown",
      "source": [
        "### 12)\n",
        "Se requiere saber cuales son los numeros que __NO__ se repiten dentro de la lista, para informarlos por consola.\n",
        "\n",
        "El informe debe ser del tipo __\"es X que Y se encuentra solo una vez en 'nums'   \"__"
      ],
      "metadata": {
        "id": "b2v2xDH7SYPi"
      }
    },
    {
      "cell_type": "code",
      "execution_count": null,
      "metadata": {
        "id": "nkUmwHvOcukH"
      },
      "outputs": [],
      "source": [
        "nums = [1, 2, 3, 1, 4, 2, 5, 6, 3]"
      ]
    },
    {
      "cell_type": "code",
      "source": [],
      "metadata": {
        "id": "P0k9LBd3Sl_0"
      },
      "execution_count": null,
      "outputs": []
    },
    {
      "cell_type": "code",
      "source": [],
      "metadata": {
        "id": "61GGpMh5SmS1"
      },
      "execution_count": null,
      "outputs": []
    },
    {
      "cell_type": "markdown",
      "source": [
        "### 13)\n",
        "### a)\n",
        "\n",
        "En base a la lista dada, imprimir en formato \"en fecha X se ha operado: una C/V del papel Y a un precio de P \"."
      ],
      "metadata": {
        "id": "nk4aPBwSSmXk"
      }
    },
    {
      "cell_type": "code",
      "source": [
        "fechas_a = [[\"2023-05-01\", \"C\" , \"BMA\" , 220] ,\n",
        "          [\"2023-05-02\" , \"V\" , \"COME\" , 3.00],\n",
        "          [\"2023-05-03\" , \"C\" , \"GGAL\" , 451.32] ]"
      ],
      "metadata": {
        "id": "x2eTLDZyStY2"
      },
      "execution_count": null,
      "outputs": []
    },
    {
      "cell_type": "code",
      "source": [],
      "metadata": {
        "id": "v2J2xMtCSwYe"
      },
      "execution_count": null,
      "outputs": []
    },
    {
      "cell_type": "code",
      "source": [],
      "metadata": {
        "id": "Zd-DfYO3TFf6"
      },
      "execution_count": null,
      "outputs": []
    },
    {
      "cell_type": "markdown",
      "source": [
        "### b)\n",
        "En base a la lista dada, imprimir en formato \"en fecha X se ha operado: una C/V del papel Y a un precio de P \"."
      ],
      "metadata": {
        "id": "iXTWS_zFTFkB"
      }
    },
    {
      "cell_type": "code",
      "source": [
        "fechas_b = [\"2023-05-01\", \"C\" , \"BMA\" , 220 ,\n",
        "          \"2023-05-02\" , \"V\" , \"COME\" , 3.00,\n",
        "          \"2023-05-03\" , \"C\" , \"GGAL\" , 451.32]"
      ],
      "metadata": {
        "id": "4XQX5I-dTGMS"
      },
      "execution_count": null,
      "outputs": []
    },
    {
      "cell_type": "code",
      "source": [],
      "metadata": {
        "id": "NcgXriz9TNjD"
      },
      "execution_count": null,
      "outputs": []
    },
    {
      "cell_type": "code",
      "source": [],
      "metadata": {
        "id": "Gy6aoD3fTNw7"
      },
      "execution_count": null,
      "outputs": []
    },
    {
      "cell_type": "markdown",
      "source": [
        "### c)\n",
        "En base a la lista dada, imprimir en formato \"en fecha X se ha operado: una C/V del papel Y a un precio de P \"."
      ],
      "metadata": {
        "id": "oZ9vyWEWTOCb"
      }
    },
    {
      "cell_type": "code",
      "source": [
        "fechas_c = [[\"2023-05-01\", [\"C\"] , [\"BMA\"] , [220]] ,\n",
        "          [\"2023-05-02\" , [\"V\"] , [\"COME\"] , [3.00]],\n",
        "          [\"2023-05-03\" , [\"C\"] , [\"GGAL\"] , [451.32]]]"
      ],
      "metadata": {
        "id": "E-xk_XMyTRC0"
      },
      "execution_count": null,
      "outputs": []
    },
    {
      "cell_type": "code",
      "source": [],
      "metadata": {
        "id": "sS35fRHVTdE1"
      },
      "execution_count": null,
      "outputs": []
    },
    {
      "cell_type": "code",
      "source": [],
      "metadata": {
        "id": "RM1g5W7XTdI9"
      },
      "execution_count": null,
      "outputs": []
    },
    {
      "cell_type": "markdown",
      "source": [
        "### d)\n",
        "\n",
        "En base a la lista dada, imprimir en formato \"en fecha X se ha operado: una C/V del papel Y a un precio de P \"."
      ],
      "metadata": {
        "id": "imNBybQ9TdYl"
      }
    },
    {
      "cell_type": "code",
      "source": [
        "fechas_d = [[\"2023-05-01\", [\"C\" , \"C\" , \"V\"] , [\"BMA\" ,\"BMA\" , \"BMA\"] , [220 , 219.22 , 221.5]] ,\n",
        "          [\"2023-05-02\" , [\"V\" , \"C\" , \"V\"] , [\"COME\" ,\"GGAL\" , \"BMA\"] , [3.00 , 190.95 , 220.25]] ]"
      ],
      "metadata": {
        "id": "2IJu0zGzTgGM"
      },
      "execution_count": null,
      "outputs": []
    },
    {
      "cell_type": "code",
      "source": [],
      "metadata": {
        "id": "5XLuJzVLTzCR"
      },
      "execution_count": null,
      "outputs": []
    },
    {
      "cell_type": "code",
      "source": [],
      "metadata": {
        "id": "N2Tb_rBNTzm5"
      },
      "execution_count": null,
      "outputs": []
    },
    {
      "cell_type": "markdown",
      "source": [
        "### 14)\n",
        "generar un array de 25 numeros entre 1 y 100. Eliminar el 3er elemento del array , y reemplazar por 0 al numero que se encuentre en la posicion 21. Imprimir numero por numero, junto a su cuadrado , de forma ordenada de mayor a menor."
      ],
      "metadata": {
        "id": "tyauG_zlTzu5"
      }
    },
    {
      "cell_type": "code",
      "source": [],
      "metadata": {
        "id": "JA-9_VKmT8La"
      },
      "execution_count": null,
      "outputs": []
    },
    {
      "cell_type": "code",
      "source": [],
      "metadata": {
        "id": "b1c6HI1-T8QK"
      },
      "execution_count": null,
      "outputs": []
    },
    {
      "cell_type": "markdown",
      "source": [
        "### 15)\n",
        "Generar 350 numeros aleatorios(menores a mil) y guardarlos en una lista.\n",
        "Calcular media, moda y mediana. Calcular desvio , varianza y deciles utilizando metodos de librerias de calculo."
      ],
      "metadata": {
        "id": "IaJSiGaxT8aC"
      }
    },
    {
      "cell_type": "code",
      "source": [],
      "metadata": {
        "id": "vTnL8fXFICBk"
      },
      "execution_count": null,
      "outputs": []
    },
    {
      "cell_type": "code",
      "source": [],
      "metadata": {
        "id": "kq4rrvEUICQD"
      },
      "execution_count": null,
      "outputs": []
    }
  ]
}